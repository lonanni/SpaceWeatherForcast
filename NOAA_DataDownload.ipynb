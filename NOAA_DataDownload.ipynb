{
  "nbformat": 4,
  "nbformat_minor": 0,
  "metadata": {
    "colab": {
      "provenance": []
    },
    "kernelspec": {
      "name": "python3",
      "display_name": "Python 3"
    },
    "language_info": {
      "name": "python"
    }
  },
  "cells": [
    {
      "cell_type": "markdown",
      "source": [
        "# **Download NOAA Data**\n",
        "# We build a dataset to study the e- flux vs time for space weather forcasting\n",
        "*This notebook is built on colab, change the colab related cell as needed*"
      ],
      "metadata": {
        "id": "WPJcbPYXDStJ"
      }
    },
    {
      "cell_type": "markdown",
      "source": [
        "**Import the necessary libraries**"
      ],
      "metadata": {
        "id": "PihenP1aEbqd"
      }
    },
    {
      "cell_type": "code",
      "source": [
        "!pip install netCDF4"
      ],
      "metadata": {
        "colab": {
          "base_uri": "https://localhost:8080/"
        },
        "id": "B6H1M3HeD8ld",
        "outputId": "348c21a5-46f3-497c-d9a2-51ffed8e8fd9"
      },
      "execution_count": 2,
      "outputs": [
        {
          "output_type": "stream",
          "name": "stdout",
          "text": [
            "Collecting netCDF4\n",
            "  Downloading netCDF4-1.7.1.post2-cp310-cp310-manylinux_2_17_x86_64.manylinux2014_x86_64.whl.metadata (1.8 kB)\n",
            "Collecting cftime (from netCDF4)\n",
            "  Downloading cftime-1.6.4-cp310-cp310-manylinux_2_17_x86_64.manylinux2014_x86_64.whl.metadata (8.7 kB)\n",
            "Requirement already satisfied: certifi in /usr/local/lib/python3.10/dist-packages (from netCDF4) (2024.7.4)\n",
            "Requirement already satisfied: numpy in /usr/local/lib/python3.10/dist-packages (from netCDF4) (1.26.4)\n",
            "Downloading netCDF4-1.7.1.post2-cp310-cp310-manylinux_2_17_x86_64.manylinux2014_x86_64.whl (9.0 MB)\n",
            "\u001b[2K   \u001b[90m━━━━━━━━━━━━━━━━━━━━━━━━━━━━━━━━━━━━━━━━\u001b[0m \u001b[32m9.0/9.0 MB\u001b[0m \u001b[31m13.3 MB/s\u001b[0m eta \u001b[36m0:00:00\u001b[0m\n",
            "\u001b[?25hDownloading cftime-1.6.4-cp310-cp310-manylinux_2_17_x86_64.manylinux2014_x86_64.whl (1.3 MB)\n",
            "\u001b[2K   \u001b[90m━━━━━━━━━━━━━━━━━━━━━━━━━━━━━━━━━━━━━━━━\u001b[0m \u001b[32m1.3/1.3 MB\u001b[0m \u001b[31m21.5 MB/s\u001b[0m eta \u001b[36m0:00:00\u001b[0m\n",
            "\u001b[?25hInstalling collected packages: cftime, netCDF4\n",
            "Successfully installed cftime-1.6.4 netCDF4-1.7.1.post2\n"
          ]
        }
      ]
    },
    {
      "cell_type": "code",
      "execution_count": 3,
      "metadata": {
        "id": "fCTNzyjLW8Sn"
      },
      "outputs": [],
      "source": [
        "from matplotlib import pyplot as plt\n",
        "import pandas as pd\n",
        "from netCDF4 import Dataset # the NOAA data are nc files\n",
        "import numpy as np\n",
        "import requests\n",
        "import os\n",
        "import cftime"
      ]
    },
    {
      "cell_type": "markdown",
      "source": [
        "**Mount the drive and define paths**"
      ],
      "metadata": {
        "id": "SGLwuUdQEl2Z"
      }
    },
    {
      "cell_type": "code",
      "source": [
        "from google.colab import drive\n",
        "drive.mount('/content/drive')"
      ],
      "metadata": {
        "colab": {
          "base_uri": "https://localhost:8080/"
        },
        "id": "ohxl6yWGXQ0I",
        "outputId": "4f460641-da13-4ec2-e5de-a25c6709519a"
      },
      "execution_count": 5,
      "outputs": [
        {
          "output_type": "stream",
          "name": "stdout",
          "text": [
            "Mounted at /content/drive\n"
          ]
        }
      ]
    },
    {
      "cell_type": "markdown",
      "source": [
        "**Download the data**\n",
        "\n",
        "The NOAA data are stored at https://www.ngdc.noaa.gov/stp/satellite/goes-r.html\n",
        "FOr this notebook, we download *GOES-R Level 1b data* from https://www.ngdc.noaa.gov/stp/satellite/goes-r.html\n",
        "and we select SEISS (Space Environment In Situ Suite) data - SEISS MPS-HI L1b Magnetospheric Electrons and Protons: High Energy - 16"
      ],
      "metadata": {
        "id": "RYx-GfYdHPjI"
      }
    },
    {
      "cell_type": "markdown",
      "source": [
        "**Load the dataset**\n",
        "\n",
        "Here we have 1 day (2022-11-24)"
      ],
      "metadata": {
        "id": "6QwPMy4XE-Z0"
      }
    },
    {
      "cell_type": "code",
      "source": [
        "NOAA_dataset_path = '/content/drive/MyDrive/TinyML/Anomalies/GOES-highenergy/2022/ops_seis-l1b-mpsh_g16_d20221124_v0-0-0.nc'\n",
        "# change the path accordingly"
      ],
      "metadata": {
        "id": "Kfm_boPgEuYD"
      },
      "execution_count": 6,
      "outputs": []
    },
    {
      "cell_type": "code",
      "source": [
        "ds = Dataset(NOAA_dataset_path)\n"
      ],
      "metadata": {
        "id": "p9bSxXD-XFk0"
      },
      "execution_count": 7,
      "outputs": []
    },
    {
      "cell_type": "markdown",
      "source": [
        "**Explore dataset**"
      ],
      "metadata": {
        "id": "1GfJAbiwKBqO"
      }
    },
    {
      "cell_type": "code",
      "source": [
        "ds"
      ],
      "metadata": {
        "colab": {
          "base_uri": "https://localhost:8080/"
        },
        "id": "xE0O-N3bXurY",
        "outputId": "3c647e36-912a-4e07-d380-c7013d82236c"
      },
      "execution_count": 8,
      "outputs": [
        {
          "output_type": "execute_result",
          "data": {
            "text/plain": [
              "<class 'netCDF4._netCDF4.Dataset'>\n",
              "root group (NETCDF4 data model, file format HDF5):\n",
              "    production_site: RBU\n",
              "    naming_authority: gov.nesdis.noaa\n",
              "    institution: DOC/NOAA/NESDIS> U.S. Department of Commerce, National Oceanic and Atmospheric Administration, National Environmental Satellite, Data, and Information Services\n",
              "    project: GOES\n",
              "    iso_series_metadata_id: f7087584-e5a8-11e3-ac10-0800200c9a66\n",
              "    Metadata_Conventions: Unidata Dataset Discovery v1.0\n",
              "    keywords_vocabulary: NASA Global Change Master Directory (GCMD) Earth Science Keywords, Version 8.5\n",
              "    title: GOES-R Series Level 1b SEISS Magnetospheric Particle Sensor High Energy (MPS-HI) Product in Daily Aggregations\n",
              "    summary: The GOES-R Magnetospheric Electrons and Protons: Medium and High Energy (MPSH) Product consists of fluxes of medium and high energy electrons and protons derived from in situ measurements of electron and proton count rates. The Magnetospheric Particle Sensor High (MPS-HI) makes these measurements. MPS-HI consists of ten solid state telescopes, five for electrons and five for protons. Collectively, the five telescopes per species, each with a 30 degree conical field-of-view, span a total angular range of 170 degrees in the Y-Z plane, arranged north-to-south in a fan. The central telescope has an anti-earthward look-angle parallel to the minus Z-axis (in spacecraft body-reference- frame coordinates). Neighboring telescope centers are separated by 35 degrees. The north-to-south order of telescope numbers is (3, 1, 4, 2, 5) for electrons and (1, 4, 2, 5, 3) for protons when the spacecraft is upright. Differential and integral electron fluxes are reported at eleven energy bands from each electron telescope. Ten of the energy bands are evenly spaced logarithmically spanning from 50 keV to 4 MeV with differential electron flux being reported. The eleventh energy band collects electrons with energies greater than 2 MeV with electron integral flux being reported. In addition, differential proton fluxes are reported at eleven energy bands from each proton telescope. The eleven proton energy bands are evenly spaced logarithmically and range from 80 keV to 12 MeV. In addition, the product contains ionizing radiation doses in two energy deposition ranges, 50 keV to 1 MeV (low linear energy transfer, LOLET) and 1 MeV to 50 MeV (high linear energy transfer, HILET) obtained from a pair of dosimeters with 250 mil (0.635 cm, Dosimeter 1) and 100 mil (0.254 cm, Dosimeter 2) aluminum shielding, for a total of four dose products. The product also contains processing and data quality metadata, satellite state and location information, and data required for the generation of level 2 products. Measurement resolution is one second. NOAA's National Centers for Environmental Information (NCEI) has created these daily files by aggregating the official L1b files produced by the GOES-R Ground System. These granular L1b files each span 30 seconds of observations.\n",
              "    license: Unclassified data.\n",
              "    keywords: EARTH SCIENCE > SUN-EARTH INTERACTIONS > SOLAR ENERGETIC PARTICLE FLUX > PROTON FLUX, EARTH SCIENCE > SUN-EARTH INTERACTIONS > IONOSPHERE/MAGNETOSPHERE DYNAMICS\n",
              "    cdm_data_type: Point\n",
              "    processing_level: National Aeronautics and Space Administration (NASA) L1b\n",
              "    orbital_slot: GOES-East\n",
              "    platform_ID: G16\n",
              "    instrument_id: FM1\n",
              "    instrument_type: GOES-R Series Magnetospheric Particle Sensor High Energy Range (SEISS)\n",
              "    production_data_source: Realtime\n",
              "    production_environment: OE\n",
              "    time_coverage_start: 2022-11-24T00:00:00.000Z\n",
              "    time_coverage_end: 2022-11-24T23:59:59.999Z\n",
              "    date_created: 2022-12-01T16:28:28.817Z\n",
              "    L1b_processing_parm_version: OR-PARM-MPSH_G16_v01r00.zip\n",
              "    algorithm_version: OR_SEIS-L1b-ALG-MPSH_v01r00.zip\n",
              "    product_version: v01r00\n",
              "    LUT_Filenames: SeissMpsHiCalInrParameters(FM1A_CDRL79RevE_DO_09_01_00)-651038920.0.h5\n",
              "    id: f4d7e456-369e-49cb-be4b-baf44302c8b8\n",
              "    aggregation_software_version: 0.8.14\n",
              "    input_file_first: OR_SEIS-L1b-MPSH_G16_s20223280000000_e20223280000290_c20223280000302.nc\n",
              "    input_file_last: OR_SEIS-L1b-MPSH_G16_s20223282359300_e20223282359590_c20223290000003.nc\n",
              "    input_file_count: 2880\n",
              "    publisher_name: NOAA's National Centers for Environmental Information (NCEI)\n",
              "    publisher_type: institution\n",
              "    publisher_email: goesr.seiss@noaa.gov\n",
              "    publisher_url: https://www.ncei.noaa.gov/\n",
              "    metadata_link: https://doi.org/10.7289/V5CR5RM5\n",
              "    Conventions: CF-1.6, ACDD-1.3\n",
              "    dataset_name: ops_seis-l1b-mpsh_g16_d20221124_v0-0-0.nc\n",
              "    dimensions(sizes): direction(5), energy_electron(10), energy_proton(11), report_number(86400), solar_array_current_channel_index(4), number_of_time_bounds(2), telescope_label_str_len(11), electron_energy_label_str_len(24), proton_energy_label_str_len(22), solar_array_mnemonic_str_len(25), input_file(2880)\n",
              "    variables(dimensions): float32 DiffElectronFluxes(report_number, direction, energy_electron), float32 IntgElectronFluxes(report_number, direction), float32 DiffProtonFluxes(report_number, direction, energy_proton), float32 DiffElectronUncertainties(report_number, direction, energy_electron), float32 IntgElectronUncertainties(report_number, direction), float32 DiffProtonUncertainties(report_number, direction, energy_proton), uint8 DiffElectronFluxDQFs(report_number, direction, energy_electron), uint8 DiffProtonFluxDQFs(report_number, direction, energy_proton), uint8 IntgElectronFluxDQFs(report_number, direction), float32 Dos1_HiLetDose(report_number), uint8 Dos1_HiLetDqf(report_number), float32 Dos2_HiLetDose(report_number), uint8 Dos2_HiLetDqf(report_number), float32 Dos1_LoLetDose(report_number), uint8 Dos1_LoLetDqf(report_number), float32 Dos2_LoLetDose(report_number), uint8 Dos2_LoLetDqf(report_number), uint8 L1a_EngData_Flag(report_number), uint8 L1a_ProtonData_Flag(report_number), uint8 L1a_EleData_Flag(report_number), uint8 L1a_DosData_Flag(report_number), uint8 L1b_Processing_Flag(report_number), uint8 N_blocks(report_number), uint8 Instrument_Mode(report_number), uint8 Instrument_Serial_Number(report_number), float64 L1a_SciData_TimeStamp(report_number), float32 quaternion_Q0(report_number), float32 quaternion_Q1(report_number), float32 quaternion_Q2(report_number), float32 quaternion_Q3(report_number), float32 ECEF_X(report_number), float32 ECEF_Y(report_number), float32 ECEF_Z(report_number), uint8 yaw_flip_flag(report_number), uint8 eclipse_flag(report_number), uint16 solar_array_current(report_number, solar_array_current_channel_index), float64 product_time(input_file, number_of_time_bounds), |S1 direction_label(direction, telescope_label_str_len), |S1 energy_electron_label(energy_electron, electron_energy_label_str_len), |S1 energy_proton_label(energy_proton, proton_energy_label_str_len), |S1 solar_array_current_channel_index_label(solar_array_current_channel_index, solar_array_mnemonic_str_len), float32 percent_uncorrectable_L0_errors(input_file)\n",
              "    groups: "
            ]
          },
          "metadata": {},
          "execution_count": 8
        }
      ]
    },
    {
      "cell_type": "code",
      "source": [
        "ds.variables.keys()"
      ],
      "metadata": {
        "colab": {
          "base_uri": "https://localhost:8080/"
        },
        "id": "PmkfVeY4Ypky",
        "outputId": "37846a42-4480-44a9-f025-a9fde194f528"
      },
      "execution_count": 9,
      "outputs": [
        {
          "output_type": "execute_result",
          "data": {
            "text/plain": [
              "dict_keys(['DiffElectronFluxes', 'IntgElectronFluxes', 'DiffProtonFluxes', 'DiffElectronUncertainties', 'IntgElectronUncertainties', 'DiffProtonUncertainties', 'DiffElectronFluxDQFs', 'DiffProtonFluxDQFs', 'IntgElectronFluxDQFs', 'Dos1_HiLetDose', 'Dos1_HiLetDqf', 'Dos2_HiLetDose', 'Dos2_HiLetDqf', 'Dos1_LoLetDose', 'Dos1_LoLetDqf', 'Dos2_LoLetDose', 'Dos2_LoLetDqf', 'L1a_EngData_Flag', 'L1a_ProtonData_Flag', 'L1a_EleData_Flag', 'L1a_DosData_Flag', 'L1b_Processing_Flag', 'N_blocks', 'Instrument_Mode', 'Instrument_Serial_Number', 'L1a_SciData_TimeStamp', 'quaternion_Q0', 'quaternion_Q1', 'quaternion_Q2', 'quaternion_Q3', 'ECEF_X', 'ECEF_Y', 'ECEF_Z', 'yaw_flip_flag', 'eclipse_flag', 'solar_array_current', 'product_time', 'direction_label', 'energy_electron_label', 'energy_proton_label', 'solar_array_current_channel_index_label', 'percent_uncorrectable_L0_errors'])"
            ]
          },
          "metadata": {},
          "execution_count": 9
        }
      ]
    },
    {
      "cell_type": "code",
      "source": [
        "ds.variables[\"DiffElectronFluxes\"][0]"
      ],
      "metadata": {
        "colab": {
          "base_uri": "https://localhost:8080/"
        },
        "id": "nO6bnLUbbIbA",
        "outputId": "10fbc69b-1da7-447c-bb47-840564d5f1ca"
      },
      "execution_count": 10,
      "outputs": [
        {
          "output_type": "execute_result",
          "data": {
            "text/plain": [
              "masked_array(\n",
              "  data=[[9.07874609e+03, 1.67786499e+03, 7.30767456e+02, 2.00939178e+02,\n",
              "         8.39309921e+01, 1.66468163e+01, 1.74734557e+00, 0.00000000e+00,\n",
              "         0.00000000e+00, 0.00000000e+00],\n",
              "        [1.09670527e+04, 1.64600049e+03, 7.20233337e+02, 3.66721619e+02,\n",
              "         1.84800949e+02, 4.33175278e+01, 6.21615934e+00, 0.00000000e+00,\n",
              "         0.00000000e+00, 0.00000000e+00],\n",
              "        [1.31952686e+04, 1.42980090e+03, 7.04917236e+02, 3.13558075e+02,\n",
              "         8.23066635e+01, 7.37734365e+00, 1.84517252e+00, 0.00000000e+00,\n",
              "         0.00000000e+00, 1.65918708e+00],\n",
              "        [9.64757227e+03, 1.95923450e+03, 4.15845184e+02, 3.39238159e+02,\n",
              "         1.24847481e+02, 1.41498251e+01, 4.39945412e+00, 0.00000000e+00,\n",
              "         0.00000000e+00, 0.00000000e+00],\n",
              "        [4.28840381e+03, 1.14579285e+03, 4.52099884e+02, 1.20232605e+02,\n",
              "         4.32970390e+01, 1.03057795e+01, 0.00000000e+00, 0.00000000e+00,\n",
              "         0.00000000e+00, 0.00000000e+00]],\n",
              "  mask=False,\n",
              "  fill_value=1e+20,\n",
              "  dtype=float32)"
            ]
          },
          "metadata": {},
          "execution_count": 10
        }
      ]
    },
    {
      "cell_type": "code",
      "source": [
        "times = cftime.num2pydate(ds.variables[\"L1a_SciData_TimeStamp\"][:], ds[\"L1a_SciData_TimeStamp\"].units)"
      ],
      "metadata": {
        "id": "-FoU9jj4dXcI"
      },
      "execution_count": 11,
      "outputs": []
    },
    {
      "cell_type": "code",
      "source": [
        "var = 'DiffElectronFluxes'\n",
        "tel = 0\n",
        "band = 0\n",
        "data = []\n",
        "for i in range(0, len(times), 300): # considering interval of 300 seconds\n",
        "    data.append(ds.variables[var][i][tel][band])\n",
        "plt.figure(0, figsize=[10, 7])\n",
        "plt.plot(\n",
        "    times[::300],\n",
        "    data[:],\n",
        "    linewidth=1,\n",
        "    color=\"green\",\n",
        "    label=f\"tel{tel}-band{band}\",\n",
        ")\n",
        "plt.yscale(\"log\")\n",
        "plt.legend(loc=\"upper right\", prop={\"size\": 12})\n",
        "plt.xlabel(\"Time [UT]\")\n",
        "plt.ylabel(f\"{var} [{ds[var].units}]\")\n",
        "plt.show()\n",
        "print(\"Done.\\n\")"
      ],
      "metadata": {
        "colab": {
          "base_uri": "https://localhost:8080/",
          "height": 653
        },
        "id": "QHlmZ1NJ-iaH",
        "outputId": "6bd37388-a8af-4434-e392-21830bcbde04"
      },
      "execution_count": 12,
      "outputs": [
        {
          "output_type": "display_data",
          "data": {
            "text/plain": [
              "<Figure size 1000x700 with 1 Axes>"
            ],
            "image/png": "[encoded data removed]"
          },
          "metadata": {}
        },
        {
          "output_type": "stream",
          "name": "stdout",
          "text": [
            "Done.\n",
            "\n"
          ]
        }
      ]
    },
    {
      "cell_type": "markdown",
      "source": [
        "# Constructing the Dataset for 2021\n",
        "\n",
        "we consider only the first 16days of each month"
      ],
      "metadata": {
        "id": "MlREhiZ3KloD"
      }
    },
    {
      "cell_type": "code",
      "source": [
        "dir0 = \"/content/drive/MyDrive/TinyML/Anomalies/GOES-highenergy/2021/\"\n",
        "year= str(2021)\n",
        "file_url = \"https://data.ngdc.noaa.gov/platforms/solar-space-observing-satellites/goes/goes16/l1b/seis-l1b-mpsh/\"+year\n",
        "file_name = \"ops_seis-l1b-mpsh_g16_\"\n",
        "suffix = \"_v0-0-0.nc\"\n",
        "# Download `file0` if it does not exist locally\n",
        "for month in ([\"01\", \"02\",\"03\", \"04\", \"05\", \"06\", \"07\", \"08\", \"09\", \"10\", \"11\", \"12\"]):\n",
        "  for days in ([\"01\", \"02\",\"03\", \"04\", \"05\", \"06\", \"07\", \"08\", \"09\", \"10\", \"11\", \"12\", \"13\", \"14\", \"15\", \"16\"]):\n",
        "\n",
        "    print(month)\n",
        "    file_name_to_save = f\"{file_name}d{year}{month}{days}{suffix}\"\n",
        "    with open(dir0 + file_name_to_save, \"wb\") as f:\n",
        "        url = f\"{file_url}/{month}/{file_name_to_save}\"\n",
        "        print('downloading: ', url)\n",
        "        r = requests.get(url)\n",
        "        f.write(r.content)"
      ],
      "metadata": {
        "colab": {
          "base_uri": "https://localhost:8080/"
        },
        "id": "TwvMiZkbT4uI",
        "outputId": "89ce34b1-563a-4495-ed7c-72a37f487503"
      },
      "execution_count": null,
      "outputs": [
        {
          "output_type": "stream",
          "name": "stdout",
          "text": [
            "01\n",
            "downloading:  https://data.ngdc.noaa.gov/platforms/solar-space-observing-satellites/goes/goes16/l1b/seis-l1b-mpsh/2021/01/ops_seis-l1b-mpsh_g16_d20210101_v0-0-0.nc\n",
            "01\n",
            "downloading:  https://data.ngdc.noaa.gov/platforms/solar-space-observing-satellites/goes/goes16/l1b/seis-l1b-mpsh/2021/01/ops_seis-l1b-mpsh_g16_d20210102_v0-0-0.nc\n",
            "01\n",
            "downloading:  https://data.ngdc.noaa.gov/platforms/solar-space-observing-satellites/goes/goes16/l1b/seis-l1b-mpsh/2021/01/ops_seis-l1b-mpsh_g16_d20210103_v0-0-0.nc\n",
            "01\n",
            "downloading:  https://data.ngdc.noaa.gov/platforms/solar-space-observing-satellites/goes/goes16/l1b/seis-l1b-mpsh/2021/01/ops_seis-l1b-mpsh_g16_d20210104_v0-0-0.nc\n",
            "01\n",
            "downloading:  https://data.ngdc.noaa.gov/platforms/solar-space-observing-satellites/goes/goes16/l1b/seis-l1b-mpsh/2021/01/ops_seis-l1b-mpsh_g16_d20210105_v0-0-0.nc\n",
            "01\n",
            "downloading:  https://data.ngdc.noaa.gov/platforms/solar-space-observing-satellites/goes/goes16/l1b/seis-l1b-mpsh/2021/01/ops_seis-l1b-mpsh_g16_d20210106_v0-0-0.nc\n",
            "01\n",
            "downloading:  https://data.ngdc.noaa.gov/platforms/solar-space-observing-satellites/goes/goes16/l1b/seis-l1b-mpsh/2021/01/ops_seis-l1b-mpsh_g16_d20210107_v0-0-0.nc\n",
            "01\n",
            "downloading:  https://data.ngdc.noaa.gov/platforms/solar-space-observing-satellites/goes/goes16/l1b/seis-l1b-mpsh/2021/01/ops_seis-l1b-mpsh_g16_d20210108_v0-0-0.nc\n",
            "01\n",
            "downloading:  https://data.ngdc.noaa.gov/platforms/solar-space-observing-satellites/goes/goes16/l1b/seis-l1b-mpsh/2021/01/ops_seis-l1b-mpsh_g16_d20210109_v0-0-0.nc\n",
            "01\n",
            "downloading:  https://data.ngdc.noaa.gov/platforms/solar-space-observing-satellites/goes/goes16/l1b/seis-l1b-mpsh/2021/01/ops_seis-l1b-mpsh_g16_d20210110_v0-0-0.nc\n",
            "01\n",
            "downloading:  https://data.ngdc.noaa.gov/platforms/solar-space-observing-satellites/goes/goes16/l1b/seis-l1b-mpsh/2021/01/ops_seis-l1b-mpsh_g16_d20210111_v0-0-0.nc\n",
            "01\n",
            "downloading:  https://data.ngdc.noaa.gov/platforms/solar-space-observing-satellites/goes/goes16/l1b/seis-l1b-mpsh/2021/01/ops_seis-l1b-mpsh_g16_d20210112_v0-0-0.nc\n",
            "01\n",
            "downloading:  https://data.ngdc.noaa.gov/platforms/solar-space-observing-satellites/goes/goes16/l1b/seis-l1b-mpsh/2021/01/ops_seis-l1b-mpsh_g16_d20210113_v0-0-0.nc\n",
            "01\n",
            "downloading:  https://data.ngdc.noaa.gov/platforms/solar-space-observing-satellites/goes/goes16/l1b/seis-l1b-mpsh/2021/01/ops_seis-l1b-mpsh_g16_d20210114_v0-0-0.nc\n",
            "01\n",
            "downloading:  https://data.ngdc.noaa.gov/platforms/solar-space-observing-satellites/goes/goes16/l1b/seis-l1b-mpsh/2021/01/ops_seis-l1b-mpsh_g16_d20210115_v0-0-0.nc\n",
            "01\n",
            "downloading:  https://data.ngdc.noaa.gov/platforms/solar-space-observing-satellites/goes/goes16/l1b/seis-l1b-mpsh/2021/01/ops_seis-l1b-mpsh_g16_d20210116_v0-0-0.nc\n",
            "02\n",
            "downloading:  https://data.ngdc.noaa.gov/platforms/solar-space-observing-satellites/goes/goes16/l1b/seis-l1b-mpsh/2021/02/ops_seis-l1b-mpsh_g16_d20210201_v0-0-0.nc\n",
            "02\n",
            "downloading:  https://data.ngdc.noaa.gov/platforms/solar-space-observing-satellites/goes/goes16/l1b/seis-l1b-mpsh/2021/02/ops_seis-l1b-mpsh_g16_d20210202_v0-0-0.nc\n",
            "02\n",
            "downloading:  https://data.ngdc.noaa.gov/platforms/solar-space-observing-satellites/goes/goes16/l1b/seis-l1b-mpsh/2021/02/ops_seis-l1b-mpsh_g16_d20210203_v0-0-0.nc\n",
            "02\n",
            "downloading:  https://data.ngdc.noaa.gov/platforms/solar-space-observing-satellites/goes/goes16/l1b/seis-l1b-mpsh/2021/02/ops_seis-l1b-mpsh_g16_d20210204_v0-0-0.nc\n",
            "02\n",
            "downloading:  https://data.ngdc.noaa.gov/platforms/solar-space-observing-satellites/goes/goes16/l1b/seis-l1b-mpsh/2021/02/ops_seis-l1b-mpsh_g16_d20210205_v0-0-0.nc\n",
            "02\n",
            "downloading:  https://data.ngdc.noaa.gov/platforms/solar-space-observing-satellites/goes/goes16/l1b/seis-l1b-mpsh/2021/02/ops_seis-l1b-mpsh_g16_d20210206_v0-0-0.nc\n",
            "02\n",
            "downloading:  https://data.ngdc.noaa.gov/platforms/solar-space-observing-satellites/goes/goes16/l1b/seis-l1b-mpsh/2021/02/ops_seis-l1b-mpsh_g16_d20210207_v0-0-0.nc\n",
            "02\n",
            "downloading:  https://data.ngdc.noaa.gov/platforms/solar-space-observing-satellites/goes/goes16/l1b/seis-l1b-mpsh/2021/02/ops_seis-l1b-mpsh_g16_d20210208_v0-0-0.nc\n",
            "02\n",
            "downloading:  https://data.ngdc.noaa.gov/platforms/solar-space-observing-satellites/goes/goes16/l1b/seis-l1b-mpsh/2021/02/ops_seis-l1b-mpsh_g16_d20210209_v0-0-0.nc\n",
            "02\n",
            "downloading:  https://data.ngdc.noaa.gov/platforms/solar-space-observing-satellites/goes/goes16/l1b/seis-l1b-mpsh/2021/02/ops_seis-l1b-mpsh_g16_d20210210_v0-0-0.nc\n",
            "02\n",
            "downloading:  https://data.ngdc.noaa.gov/platforms/solar-space-observing-satellites/goes/goes16/l1b/seis-l1b-mpsh/2021/02/ops_seis-l1b-mpsh_g16_d20210211_v0-0-0.nc\n",
            "02\n",
            "downloading:  https://data.ngdc.noaa.gov/platforms/solar-space-observing-satellites/goes/goes16/l1b/seis-l1b-mpsh/2021/02/ops_seis-l1b-mpsh_g16_d20210212_v0-0-0.nc\n",
            "02\n",
            "downloading:  https://data.ngdc.noaa.gov/platforms/solar-space-observing-satellites/goes/goes16/l1b/seis-l1b-mpsh/2021/02/ops_seis-l1b-mpsh_g16_d20210213_v0-0-0.nc\n",
            "02\n",
            "downloading:  https://data.ngdc.noaa.gov/platforms/solar-space-observing-satellites/goes/goes16/l1b/seis-l1b-mpsh/2021/02/ops_seis-l1b-mpsh_g16_d20210214_v0-0-0.nc\n",
            "02\n",
            "downloading:  https://data.ngdc.noaa.gov/platforms/solar-space-observing-satellites/goes/goes16/l1b/seis-l1b-mpsh/2021/02/ops_seis-l1b-mpsh_g16_d20210215_v0-0-0.nc\n",
            "02\n",
            "downloading:  https://data.ngdc.noaa.gov/platforms/solar-space-observing-satellites/goes/goes16/l1b/seis-l1b-mpsh/2021/02/ops_seis-l1b-mpsh_g16_d20210216_v0-0-0.nc\n",
            "03\n",
            "downloading:  https://data.ngdc.noaa.gov/platforms/solar-space-observing-satellites/goes/goes16/l1b/seis-l1b-mpsh/2021/03/ops_seis-l1b-mpsh_g16_d20210301_v0-0-0.nc\n",
            "03\n",
            "downloading:  https://data.ngdc.noaa.gov/platforms/solar-space-observing-satellites/goes/goes16/l1b/seis-l1b-mpsh/2021/03/ops_seis-l1b-mpsh_g16_d20210302_v0-0-0.nc\n",
            "03\n",
            "downloading:  https://data.ngdc.noaa.gov/platforms/solar-space-observing-satellites/goes/goes16/l1b/seis-l1b-mpsh/2021/03/ops_seis-l1b-mpsh_g16_d20210303_v0-0-0.nc\n",
            "03\n",
            "downloading:  https://data.ngdc.noaa.gov/platforms/solar-space-observing-satellites/goes/goes16/l1b/seis-l1b-mpsh/2021/03/ops_seis-l1b-mpsh_g16_d20210304_v0-0-0.nc\n",
            "03\n",
            "downloading:  https://data.ngdc.noaa.gov/platforms/solar-space-observing-satellites/goes/goes16/l1b/seis-l1b-mpsh/2021/03/ops_seis-l1b-mpsh_g16_d20210305_v0-0-0.nc\n",
            "03\n",
            "downloading:  https://data.ngdc.noaa.gov/platforms/solar-space-observing-satellites/goes/goes16/l1b/seis-l1b-mpsh/2021/03/ops_seis-l1b-mpsh_g16_d20210306_v0-0-0.nc\n",
            "03\n",
            "downloading:  https://data.ngdc.noaa.gov/platforms/solar-space-observing-satellites/goes/goes16/l1b/seis-l1b-mpsh/2021/03/ops_seis-l1b-mpsh_g16_d20210307_v0-0-0.nc\n",
            "03\n",
            "downloading:  https://data.ngdc.noaa.gov/platforms/solar-space-observing-satellites/goes/goes16/l1b/seis-l1b-mpsh/2021/03/ops_seis-l1b-mpsh_g16_d20210308_v0-0-0.nc\n",
            "03\n",
            "downloading:  https://data.ngdc.noaa.gov/platforms/solar-space-observing-satellites/goes/goes16/l1b/seis-l1b-mpsh/2021/03/ops_seis-l1b-mpsh_g16_d20210309_v0-0-0.nc\n",
            "03\n",
            "downloading:  https://data.ngdc.noaa.gov/platforms/solar-space-observing-satellites/goes/goes16/l1b/seis-l1b-mpsh/2021/03/ops_seis-l1b-mpsh_g16_d20210310_v0-0-0.nc\n",
            "03\n",
            "downloading:  https://data.ngdc.noaa.gov/platforms/solar-space-observing-satellites/goes/goes16/l1b/seis-l1b-mpsh/2021/03/ops_seis-l1b-mpsh_g16_d20210311_v0-0-0.nc\n",
            "03\n",
            "downloading:  https://data.ngdc.noaa.gov/platforms/solar-space-observing-satellites/goes/goes16/l1b/seis-l1b-mpsh/2021/03/ops_seis-l1b-mpsh_g16_d20210312_v0-0-0.nc\n",
            "03\n",
            "downloading:  https://data.ngdc.noaa.gov/platforms/solar-space-observing-satellites/goes/goes16/l1b/seis-l1b-mpsh/2021/03/ops_seis-l1b-mpsh_g16_d20210313_v0-0-0.nc\n",
            "03\n",
            "downloading:  https://data.ngdc.noaa.gov/platforms/solar-space-observing-satellites/goes/goes16/l1b/seis-l1b-mpsh/2021/03/ops_seis-l1b-mpsh_g16_d20210314_v0-0-0.nc\n",
            "03\n",
            "downloading:  https://data.ngdc.noaa.gov/platforms/solar-space-observing-satellites/goes/goes16/l1b/seis-l1b-mpsh/2021/03/ops_seis-l1b-mpsh_g16_d20210315_v0-0-0.nc\n",
            "03\n",
            "downloading:  https://data.ngdc.noaa.gov/platforms/solar-space-observing-satellites/goes/goes16/l1b/seis-l1b-mpsh/2021/03/ops_seis-l1b-mpsh_g16_d20210316_v0-0-0.nc\n",
            "04\n",
            "downloading:  https://data.ngdc.noaa.gov/platforms/solar-space-observing-satellites/goes/goes16/l1b/seis-l1b-mpsh/2021/04/ops_seis-l1b-mpsh_g16_d20210401_v0-0-0.nc\n",
            "04\n",
            "downloading:  https://data.ngdc.noaa.gov/platforms/solar-space-observing-satellites/goes/goes16/l1b/seis-l1b-mpsh/2021/04/ops_seis-l1b-mpsh_g16_d20210402_v0-0-0.nc\n",
            "04\n",
            "downloading:  https://data.ngdc.noaa.gov/platforms/solar-space-observing-satellites/goes/goes16/l1b/seis-l1b-mpsh/2021/04/ops_seis-l1b-mpsh_g16_d20210403_v0-0-0.nc\n",
            "04\n",
            "downloading:  https://data.ngdc.noaa.gov/platforms/solar-space-observing-satellites/goes/goes16/l1b/seis-l1b-mpsh/2021/04/ops_seis-l1b-mpsh_g16_d20210404_v0-0-0.nc\n",
            "04\n",
            "downloading:  https://data.ngdc.noaa.gov/platforms/solar-space-observing-satellites/goes/goes16/l1b/seis-l1b-mpsh/2021/04/ops_seis-l1b-mpsh_g16_d20210405_v0-0-0.nc\n",
            "04\n",
            "downloading:  https://data.ngdc.noaa.gov/platforms/solar-space-observing-satellites/goes/goes16/l1b/seis-l1b-mpsh/2021/04/ops_seis-l1b-mpsh_g16_d20210406_v0-0-0.nc\n",
            "04\n",
            "downloading:  https://data.ngdc.noaa.gov/platforms/solar-space-observing-satellites/goes/goes16/l1b/seis-l1b-mpsh/2021/04/ops_seis-l1b-mpsh_g16_d20210407_v0-0-0.nc\n",
            "04\n",
            "downloading:  https://data.ngdc.noaa.gov/platforms/solar-space-observing-satellites/goes/goes16/l1b/seis-l1b-mpsh/2021/04/ops_seis-l1b-mpsh_g16_d20210408_v0-0-0.nc\n",
            "04\n",
            "downloading:  https://data.ngdc.noaa.gov/platforms/solar-space-observing-satellites/goes/goes16/l1b/seis-l1b-mpsh/2021/04/ops_seis-l1b-mpsh_g16_d20210409_v0-0-0.nc\n",
            "04\n",
            "downloading:  https://data.ngdc.noaa.gov/platforms/solar-space-observing-satellites/goes/goes16/l1b/seis-l1b-mpsh/2021/04/ops_seis-l1b-mpsh_g16_d20210410_v0-0-0.nc\n",
            "04\n",
            "downloading:  https://data.ngdc.noaa.gov/platforms/solar-space-observing-satellites/goes/goes16/l1b/seis-l1b-mpsh/2021/04/ops_seis-l1b-mpsh_g16_d20210411_v0-0-0.nc\n",
            "04\n",
            "downloading:  https://data.ngdc.noaa.gov/platforms/solar-space-observing-satellites/goes/goes16/l1b/seis-l1b-mpsh/2021/04/ops_seis-l1b-mpsh_g16_d20210412_v0-0-0.nc\n",
            "04\n",
            "downloading:  https://data.ngdc.noaa.gov/platforms/solar-space-observing-satellites/goes/goes16/l1b/seis-l1b-mpsh/2021/04/ops_seis-l1b-mpsh_g16_d20210413_v0-0-0.nc\n",
            "04\n",
            "downloading:  https://data.ngdc.noaa.gov/platforms/solar-space-observing-satellites/goes/goes16/l1b/seis-l1b-mpsh/2021/04/ops_seis-l1b-mpsh_g16_d20210414_v0-0-0.nc\n",
            "04\n",
            "downloading:  https://data.ngdc.noaa.gov/platforms/solar-space-observing-satellites/goes/goes16/l1b/seis-l1b-mpsh/2021/04/ops_seis-l1b-mpsh_g16_d20210415_v0-0-0.nc\n",
            "04\n",
            "downloading:  https://data.ngdc.noaa.gov/platforms/solar-space-observing-satellites/goes/goes16/l1b/seis-l1b-mpsh/2021/04/ops_seis-l1b-mpsh_g16_d20210416_v0-0-0.nc\n",
            "05\n",
            "downloading:  https://data.ngdc.noaa.gov/platforms/solar-space-observing-satellites/goes/goes16/l1b/seis-l1b-mpsh/2021/05/ops_seis-l1b-mpsh_g16_d20210501_v0-0-0.nc\n",
            "05\n",
            "downloading:  https://data.ngdc.noaa.gov/platforms/solar-space-observing-satellites/goes/goes16/l1b/seis-l1b-mpsh/2021/05/ops_seis-l1b-mpsh_g16_d20210502_v0-0-0.nc\n",
            "05\n",
            "downloading:  https://data.ngdc.noaa.gov/platforms/solar-space-observing-satellites/goes/goes16/l1b/seis-l1b-mpsh/2021/05/ops_seis-l1b-mpsh_g16_d20210503_v0-0-0.nc\n",
            "05\n",
            "downloading:  https://data.ngdc.noaa.gov/platforms/solar-space-observing-satellites/goes/goes16/l1b/seis-l1b-mpsh/2021/05/ops_seis-l1b-mpsh_g16_d20210504_v0-0-0.nc\n",
            "05\n",
            "downloading:  https://data.ngdc.noaa.gov/platforms/solar-space-observing-satellites/goes/goes16/l1b/seis-l1b-mpsh/2021/05/ops_seis-l1b-mpsh_g16_d20210505_v0-0-0.nc\n",
            "05\n",
            "downloading:  https://data.ngdc.noaa.gov/platforms/solar-space-observing-satellites/goes/goes16/l1b/seis-l1b-mpsh/2021/05/ops_seis-l1b-mpsh_g16_d20210506_v0-0-0.nc\n",
            "05\n",
            "downloading:  https://data.ngdc.noaa.gov/platforms/solar-space-observing-satellites/goes/goes16/l1b/seis-l1b-mpsh/2021/05/ops_seis-l1b-mpsh_g16_d20210507_v0-0-0.nc\n",
            "05\n",
            "downloading:  https://data.ngdc.noaa.gov/platforms/solar-space-observing-satellites/goes/goes16/l1b/seis-l1b-mpsh/2021/05/ops_seis-l1b-mpsh_g16_d20210508_v0-0-0.nc\n",
            "05\n",
            "downloading:  https://data.ngdc.noaa.gov/platforms/solar-space-observing-satellites/goes/goes16/l1b/seis-l1b-mpsh/2021/05/ops_seis-l1b-mpsh_g16_d20210509_v0-0-0.nc\n",
            "05\n",
            "downloading:  https://data.ngdc.noaa.gov/platforms/solar-space-observing-satellites/goes/goes16/l1b/seis-l1b-mpsh/2021/05/ops_seis-l1b-mpsh_g16_d20210510_v0-0-0.nc\n",
            "05\n",
            "downloading:  https://data.ngdc.noaa.gov/platforms/solar-space-observing-satellites/goes/goes16/l1b/seis-l1b-mpsh/2021/05/ops_seis-l1b-mpsh_g16_d20210511_v0-0-0.nc\n",
            "05\n",
            "downloading:  https://data.ngdc.noaa.gov/platforms/solar-space-observing-satellites/goes/goes16/l1b/seis-l1b-mpsh/2021/05/ops_seis-l1b-mpsh_g16_d20210512_v0-0-0.nc\n",
            "05\n",
            "downloading:  https://data.ngdc.noaa.gov/platforms/solar-space-observing-satellites/goes/goes16/l1b/seis-l1b-mpsh/2021/05/ops_seis-l1b-mpsh_g16_d20210513_v0-0-0.nc\n",
            "05\n",
            "downloading:  https://data.ngdc.noaa.gov/platforms/solar-space-observing-satellites/goes/goes16/l1b/seis-l1b-mpsh/2021/05/ops_seis-l1b-mpsh_g16_d20210514_v0-0-0.nc\n",
            "05\n",
            "downloading:  https://data.ngdc.noaa.gov/platforms/solar-space-observing-satellites/goes/goes16/l1b/seis-l1b-mpsh/2021/05/ops_seis-l1b-mpsh_g16_d20210515_v0-0-0.nc\n",
            "05\n",
            "downloading:  https://data.ngdc.noaa.gov/platforms/solar-space-observing-satellites/goes/goes16/l1b/seis-l1b-mpsh/2021/05/ops_seis-l1b-mpsh_g16_d20210516_v0-0-0.nc\n",
            "06\n",
            "downloading:  https://data.ngdc.noaa.gov/platforms/solar-space-observing-satellites/goes/goes16/l1b/seis-l1b-mpsh/2021/06/ops_seis-l1b-mpsh_g16_d20210601_v0-0-0.nc\n",
            "06\n",
            "downloading:  https://data.ngdc.noaa.gov/platforms/solar-space-observing-satellites/goes/goes16/l1b/seis-l1b-mpsh/2021/06/ops_seis-l1b-mpsh_g16_d20210602_v0-0-0.nc\n",
            "06\n",
            "downloading:  https://data.ngdc.noaa.gov/platforms/solar-space-observing-satellites/goes/goes16/l1b/seis-l1b-mpsh/2021/06/ops_seis-l1b-mpsh_g16_d20210603_v0-0-0.nc\n",
            "06\n",
            "downloading:  https://data.ngdc.noaa.gov/platforms/solar-space-observing-satellites/goes/goes16/l1b/seis-l1b-mpsh/2021/06/ops_seis-l1b-mpsh_g16_d20210604_v0-0-0.nc\n",
            "06\n",
            "downloading:  https://data.ngdc.noaa.gov/platforms/solar-space-observing-satellites/goes/goes16/l1b/seis-l1b-mpsh/2021/06/ops_seis-l1b-mpsh_g16_d20210605_v0-0-0.nc\n",
            "06\n",
            "downloading:  https://data.ngdc.noaa.gov/platforms/solar-space-observing-satellites/goes/goes16/l1b/seis-l1b-mpsh/2021/06/ops_seis-l1b-mpsh_g16_d20210606_v0-0-0.nc\n",
            "06\n",
            "downloading:  https://data.ngdc.noaa.gov/platforms/solar-space-observing-satellites/goes/goes16/l1b/seis-l1b-mpsh/2021/06/ops_seis-l1b-mpsh_g16_d20210607_v0-0-0.nc\n",
            "06\n",
            "downloading:  https://data.ngdc.noaa.gov/platforms/solar-space-observing-satellites/goes/goes16/l1b/seis-l1b-mpsh/2021/06/ops_seis-l1b-mpsh_g16_d20210608_v0-0-0.nc\n",
            "06\n",
            "downloading:  https://data.ngdc.noaa.gov/platforms/solar-space-observing-satellites/goes/goes16/l1b/seis-l1b-mpsh/2021/06/ops_seis-l1b-mpsh_g16_d20210609_v0-0-0.nc\n",
            "06\n",
            "downloading:  https://data.ngdc.noaa.gov/platforms/solar-space-observing-satellites/goes/goes16/l1b/seis-l1b-mpsh/2021/06/ops_seis-l1b-mpsh_g16_d20210610_v0-0-0.nc\n",
            "06\n",
            "downloading:  https://data.ngdc.noaa.gov/platforms/solar-space-observing-satellites/goes/goes16/l1b/seis-l1b-mpsh/2021/06/ops_seis-l1b-mpsh_g16_d20210611_v0-0-0.nc\n",
            "06\n",
            "downloading:  https://data.ngdc.noaa.gov/platforms/solar-space-observing-satellites/goes/goes16/l1b/seis-l1b-mpsh/2021/06/ops_seis-l1b-mpsh_g16_d20210612_v0-0-0.nc\n",
            "06\n",
            "downloading:  https://data.ngdc.noaa.gov/platforms/solar-space-observing-satellites/goes/goes16/l1b/seis-l1b-mpsh/2021/06/ops_seis-l1b-mpsh_g16_d20210613_v0-0-0.nc\n",
            "06\n",
            "downloading:  https://data.ngdc.noaa.gov/platforms/solar-space-observing-satellites/goes/goes16/l1b/seis-l1b-mpsh/2021/06/ops_seis-l1b-mpsh_g16_d20210614_v0-0-0.nc\n",
            "06\n",
            "downloading:  https://data.ngdc.noaa.gov/platforms/solar-space-observing-satellites/goes/goes16/l1b/seis-l1b-mpsh/2021/06/ops_seis-l1b-mpsh_g16_d20210615_v0-0-0.nc\n",
            "06\n",
            "downloading:  https://data.ngdc.noaa.gov/platforms/solar-space-observing-satellites/goes/goes16/l1b/seis-l1b-mpsh/2021/06/ops_seis-l1b-mpsh_g16_d20210616_v0-0-0.nc\n",
            "07\n",
            "downloading:  https://data.ngdc.noaa.gov/platforms/solar-space-observing-satellites/goes/goes16/l1b/seis-l1b-mpsh/2021/07/ops_seis-l1b-mpsh_g16_d20210701_v0-0-0.nc\n",
            "07\n",
            "downloading:  https://data.ngdc.noaa.gov/platforms/solar-space-observing-satellites/goes/goes16/l1b/seis-l1b-mpsh/2021/07/ops_seis-l1b-mpsh_g16_d20210702_v0-0-0.nc\n",
            "07\n",
            "downloading:  https://data.ngdc.noaa.gov/platforms/solar-space-observing-satellites/goes/goes16/l1b/seis-l1b-mpsh/2021/07/ops_seis-l1b-mpsh_g16_d20210703_v0-0-0.nc\n",
            "07\n",
            "downloading:  https://data.ngdc.noaa.gov/platforms/solar-space-observing-satellites/goes/goes16/l1b/seis-l1b-mpsh/2021/07/ops_seis-l1b-mpsh_g16_d20210704_v0-0-0.nc\n",
            "07\n",
            "downloading:  https://data.ngdc.noaa.gov/platforms/solar-space-observing-satellites/goes/goes16/l1b/seis-l1b-mpsh/2021/07/ops_seis-l1b-mpsh_g16_d20210705_v0-0-0.nc\n",
            "07\n",
            "downloading:  https://data.ngdc.noaa.gov/platforms/solar-space-observing-satellites/goes/goes16/l1b/seis-l1b-mpsh/2021/07/ops_seis-l1b-mpsh_g16_d20210706_v0-0-0.nc\n",
            "07\n",
            "downloading:  https://data.ngdc.noaa.gov/platforms/solar-space-observing-satellites/goes/goes16/l1b/seis-l1b-mpsh/2021/07/ops_seis-l1b-mpsh_g16_d20210707_v0-0-0.nc\n",
            "07\n",
            "downloading:  https://data.ngdc.noaa.gov/platforms/solar-space-observing-satellites/goes/goes16/l1b/seis-l1b-mpsh/2021/07/ops_seis-l1b-mpsh_g16_d20210708_v0-0-0.nc\n",
            "07\n",
            "downloading:  https://data.ngdc.noaa.gov/platforms/solar-space-observing-satellites/goes/goes16/l1b/seis-l1b-mpsh/2021/07/ops_seis-l1b-mpsh_g16_d20210709_v0-0-0.nc\n",
            "07\n",
            "downloading:  https://data.ngdc.noaa.gov/platforms/solar-space-observing-satellites/goes/goes16/l1b/seis-l1b-mpsh/2021/07/ops_seis-l1b-mpsh_g16_d20210710_v0-0-0.nc\n",
            "07\n",
            "downloading:  https://data.ngdc.noaa.gov/platforms/solar-space-observing-satellites/goes/goes16/l1b/seis-l1b-mpsh/2021/07/ops_seis-l1b-mpsh_g16_d20210711_v0-0-0.nc\n",
            "07\n",
            "downloading:  https://data.ngdc.noaa.gov/platforms/solar-space-observing-satellites/goes/goes16/l1b/seis-l1b-mpsh/2021/07/ops_seis-l1b-mpsh_g16_d20210712_v0-0-0.nc\n",
            "07\n",
            "downloading:  https://data.ngdc.noaa.gov/platforms/solar-space-observing-satellites/goes/goes16/l1b/seis-l1b-mpsh/2021/07/ops_seis-l1b-mpsh_g16_d20210713_v0-0-0.nc\n",
            "07\n",
            "downloading:  https://data.ngdc.noaa.gov/platforms/solar-space-observing-satellites/goes/goes16/l1b/seis-l1b-mpsh/2021/07/ops_seis-l1b-mpsh_g16_d20210714_v0-0-0.nc\n",
            "07\n",
            "downloading:  https://data.ngdc.noaa.gov/platforms/solar-space-observing-satellites/goes/goes16/l1b/seis-l1b-mpsh/2021/07/ops_seis-l1b-mpsh_g16_d20210715_v0-0-0.nc\n",
            "07\n",
            "downloading:  https://data.ngdc.noaa.gov/platforms/solar-space-observing-satellites/goes/goes16/l1b/seis-l1b-mpsh/2021/07/ops_seis-l1b-mpsh_g16_d20210716_v0-0-0.nc\n",
            "08\n",
            "downloading:  https://data.ngdc.noaa.gov/platforms/solar-space-observing-satellites/goes/goes16/l1b/seis-l1b-mpsh/2021/08/ops_seis-l1b-mpsh_g16_d20210801_v0-0-0.nc\n",
            "08\n",
            "downloading:  https://data.ngdc.noaa.gov/platforms/solar-space-observing-satellites/goes/goes16/l1b/seis-l1b-mpsh/2021/08/ops_seis-l1b-mpsh_g16_d20210802_v0-0-0.nc\n",
            "08\n",
            "downloading:  https://data.ngdc.noaa.gov/platforms/solar-space-observing-satellites/goes/goes16/l1b/seis-l1b-mpsh/2021/08/ops_seis-l1b-mpsh_g16_d20210803_v0-0-0.nc\n",
            "08\n",
            "downloading:  https://data.ngdc.noaa.gov/platforms/solar-space-observing-satellites/goes/goes16/l1b/seis-l1b-mpsh/2021/08/ops_seis-l1b-mpsh_g16_d20210804_v0-0-0.nc\n",
            "08\n",
            "downloading:  https://data.ngdc.noaa.gov/platforms/solar-space-observing-satellites/goes/goes16/l1b/seis-l1b-mpsh/2021/08/ops_seis-l1b-mpsh_g16_d20210805_v0-0-0.nc\n",
            "08\n",
            "downloading:  https://data.ngdc.noaa.gov/platforms/solar-space-observing-satellites/goes/goes16/l1b/seis-l1b-mpsh/2021/08/ops_seis-l1b-mpsh_g16_d20210806_v0-0-0.nc\n",
            "08\n",
            "downloading:  https://data.ngdc.noaa.gov/platforms/solar-space-observing-satellites/goes/goes16/l1b/seis-l1b-mpsh/2021/08/ops_seis-l1b-mpsh_g16_d20210807_v0-0-0.nc\n",
            "08\n",
            "downloading:  https://data.ngdc.noaa.gov/platforms/solar-space-observing-satellites/goes/goes16/l1b/seis-l1b-mpsh/2021/08/ops_seis-l1b-mpsh_g16_d20210808_v0-0-0.nc\n",
            "08\n",
            "downloading:  https://data.ngdc.noaa.gov/platforms/solar-space-observing-satellites/goes/goes16/l1b/seis-l1b-mpsh/2021/08/ops_seis-l1b-mpsh_g16_d20210809_v0-0-0.nc\n",
            "08\n",
            "downloading:  https://data.ngdc.noaa.gov/platforms/solar-space-observing-satellites/goes/goes16/l1b/seis-l1b-mpsh/2021/08/ops_seis-l1b-mpsh_g16_d20210810_v0-0-0.nc\n",
            "08\n",
            "downloading:  https://data.ngdc.noaa.gov/platforms/solar-space-observing-satellites/goes/goes16/l1b/seis-l1b-mpsh/2021/08/ops_seis-l1b-mpsh_g16_d20210811_v0-0-0.nc\n",
            "08\n",
            "downloading:  https://data.ngdc.noaa.gov/platforms/solar-space-observing-satellites/goes/goes16/l1b/seis-l1b-mpsh/2021/08/ops_seis-l1b-mpsh_g16_d20210812_v0-0-0.nc\n",
            "08\n",
            "downloading:  https://data.ngdc.noaa.gov/platforms/solar-space-observing-satellites/goes/goes16/l1b/seis-l1b-mpsh/2021/08/ops_seis-l1b-mpsh_g16_d20210813_v0-0-0.nc\n",
            "08\n",
            "downloading:  https://data.ngdc.noaa.gov/platforms/solar-space-observing-satellites/goes/goes16/l1b/seis-l1b-mpsh/2021/08/ops_seis-l1b-mpsh_g16_d20210814_v0-0-0.nc\n",
            "08\n",
            "downloading:  https://data.ngdc.noaa.gov/platforms/solar-space-observing-satellites/goes/goes16/l1b/seis-l1b-mpsh/2021/08/ops_seis-l1b-mpsh_g16_d20210815_v0-0-0.nc\n",
            "08\n",
            "downloading:  https://data.ngdc.noaa.gov/platforms/solar-space-observing-satellites/goes/goes16/l1b/seis-l1b-mpsh/2021/08/ops_seis-l1b-mpsh_g16_d20210816_v0-0-0.nc\n",
            "09\n",
            "downloading:  https://data.ngdc.noaa.gov/platforms/solar-space-observing-satellites/goes/goes16/l1b/seis-l1b-mpsh/2021/09/ops_seis-l1b-mpsh_g16_d20210901_v0-0-0.nc\n",
            "09\n",
            "downloading:  https://data.ngdc.noaa.gov/platforms/solar-space-observing-satellites/goes/goes16/l1b/seis-l1b-mpsh/2021/09/ops_seis-l1b-mpsh_g16_d20210902_v0-0-0.nc\n",
            "09\n",
            "downloading:  https://data.ngdc.noaa.gov/platforms/solar-space-observing-satellites/goes/goes16/l1b/seis-l1b-mpsh/2021/09/ops_seis-l1b-mpsh_g16_d20210903_v0-0-0.nc\n",
            "09\n",
            "downloading:  https://data.ngdc.noaa.gov/platforms/solar-space-observing-satellites/goes/goes16/l1b/seis-l1b-mpsh/2021/09/ops_seis-l1b-mpsh_g16_d20210904_v0-0-0.nc\n",
            "09\n",
            "downloading:  https://data.ngdc.noaa.gov/platforms/solar-space-observing-satellites/goes/goes16/l1b/seis-l1b-mpsh/2021/09/ops_seis-l1b-mpsh_g16_d20210905_v0-0-0.nc\n",
            "09\n",
            "downloading:  https://data.ngdc.noaa.gov/platforms/solar-space-observing-satellites/goes/goes16/l1b/seis-l1b-mpsh/2021/09/ops_seis-l1b-mpsh_g16_d20210906_v0-0-0.nc\n",
            "09\n",
            "downloading:  https://data.ngdc.noaa.gov/platforms/solar-space-observing-satellites/goes/goes16/l1b/seis-l1b-mpsh/2021/09/ops_seis-l1b-mpsh_g16_d20210907_v0-0-0.nc\n",
            "09\n",
            "downloading:  https://data.ngdc.noaa.gov/platforms/solar-space-observing-satellites/goes/goes16/l1b/seis-l1b-mpsh/2021/09/ops_seis-l1b-mpsh_g16_d20210908_v0-0-0.nc\n",
            "09\n",
            "downloading:  https://data.ngdc.noaa.gov/platforms/solar-space-observing-satellites/goes/goes16/l1b/seis-l1b-mpsh/2021/09/ops_seis-l1b-mpsh_g16_d20210909_v0-0-0.nc\n",
            "09\n",
            "downloading:  https://data.ngdc.noaa.gov/platforms/solar-space-observing-satellites/goes/goes16/l1b/seis-l1b-mpsh/2021/09/ops_seis-l1b-mpsh_g16_d20210910_v0-0-0.nc\n",
            "09\n",
            "downloading:  https://data.ngdc.noaa.gov/platforms/solar-space-observing-satellites/goes/goes16/l1b/seis-l1b-mpsh/2021/09/ops_seis-l1b-mpsh_g16_d20210911_v0-0-0.nc\n",
            "09\n",
            "downloading:  https://data.ngdc.noaa.gov/platforms/solar-space-observing-satellites/goes/goes16/l1b/seis-l1b-mpsh/2021/09/ops_seis-l1b-mpsh_g16_d20210912_v0-0-0.nc\n",
            "09\n",
            "downloading:  https://data.ngdc.noaa.gov/platforms/solar-space-observing-satellites/goes/goes16/l1b/seis-l1b-mpsh/2021/09/ops_seis-l1b-mpsh_g16_d20210913_v0-0-0.nc\n",
            "09\n",
            "downloading:  https://data.ngdc.noaa.gov/platforms/solar-space-observing-satellites/goes/goes16/l1b/seis-l1b-mpsh/2021/09/ops_seis-l1b-mpsh_g16_d20210914_v0-0-0.nc\n",
            "09\n",
            "downloading:  https://data.ngdc.noaa.gov/platforms/solar-space-observing-satellites/goes/goes16/l1b/seis-l1b-mpsh/2021/09/ops_seis-l1b-mpsh_g16_d20210915_v0-0-0.nc\n",
            "09\n",
            "downloading:  https://data.ngdc.noaa.gov/platforms/solar-space-observing-satellites/goes/goes16/l1b/seis-l1b-mpsh/2021/09/ops_seis-l1b-mpsh_g16_d20210916_v0-0-0.nc\n",
            "10\n",
            "downloading:  https://data.ngdc.noaa.gov/platforms/solar-space-observing-satellites/goes/goes16/l1b/seis-l1b-mpsh/2021/10/ops_seis-l1b-mpsh_g16_d20211001_v0-0-0.nc\n",
            "10\n",
            "downloading:  https://data.ngdc.noaa.gov/platforms/solar-space-observing-satellites/goes/goes16/l1b/seis-l1b-mpsh/2021/10/ops_seis-l1b-mpsh_g16_d20211002_v0-0-0.nc\n",
            "10\n",
            "downloading:  https://data.ngdc.noaa.gov/platforms/solar-space-observing-satellites/goes/goes16/l1b/seis-l1b-mpsh/2021/10/ops_seis-l1b-mpsh_g16_d20211003_v0-0-0.nc\n",
            "10\n",
            "downloading:  https://data.ngdc.noaa.gov/platforms/solar-space-observing-satellites/goes/goes16/l1b/seis-l1b-mpsh/2021/10/ops_seis-l1b-mpsh_g16_d20211004_v0-0-0.nc\n",
            "10\n",
            "downloading:  https://data.ngdc.noaa.gov/platforms/solar-space-observing-satellites/goes/goes16/l1b/seis-l1b-mpsh/2021/10/ops_seis-l1b-mpsh_g16_d20211005_v0-0-0.nc\n",
            "10\n",
            "downloading:  https://data.ngdc.noaa.gov/platforms/solar-space-observing-satellites/goes/goes16/l1b/seis-l1b-mpsh/2021/10/ops_seis-l1b-mpsh_g16_d20211006_v0-0-0.nc\n",
            "10\n",
            "downloading:  https://data.ngdc.noaa.gov/platforms/solar-space-observing-satellites/goes/goes16/l1b/seis-l1b-mpsh/2021/10/ops_seis-l1b-mpsh_g16_d20211007_v0-0-0.nc\n",
            "10\n",
            "downloading:  https://data.ngdc.noaa.gov/platforms/solar-space-observing-satellites/goes/goes16/l1b/seis-l1b-mpsh/2021/10/ops_seis-l1b-mpsh_g16_d20211008_v0-0-0.nc\n",
            "10\n",
            "downloading:  https://data.ngdc.noaa.gov/platforms/solar-space-observing-satellites/goes/goes16/l1b/seis-l1b-mpsh/2021/10/ops_seis-l1b-mpsh_g16_d20211009_v0-0-0.nc\n",
            "10\n",
            "downloading:  https://data.ngdc.noaa.gov/platforms/solar-space-observing-satellites/goes/goes16/l1b/seis-l1b-mpsh/2021/10/ops_seis-l1b-mpsh_g16_d20211010_v0-0-0.nc\n",
            "10\n",
            "downloading:  https://data.ngdc.noaa.gov/platforms/solar-space-observing-satellites/goes/goes16/l1b/seis-l1b-mpsh/2021/10/ops_seis-l1b-mpsh_g16_d20211011_v0-0-0.nc\n",
            "10\n",
            "downloading:  https://data.ngdc.noaa.gov/platforms/solar-space-observing-satellites/goes/goes16/l1b/seis-l1b-mpsh/2021/10/ops_seis-l1b-mpsh_g16_d20211012_v0-0-0.nc\n",
            "10\n",
            "downloading:  https://data.ngdc.noaa.gov/platforms/solar-space-observing-satellites/goes/goes16/l1b/seis-l1b-mpsh/2021/10/ops_seis-l1b-mpsh_g16_d20211013_v0-0-0.nc\n",
            "10\n",
            "downloading:  https://data.ngdc.noaa.gov/platforms/solar-space-observing-satellites/goes/goes16/l1b/seis-l1b-mpsh/2021/10/ops_seis-l1b-mpsh_g16_d20211014_v0-0-0.nc\n",
            "10\n",
            "downloading:  https://data.ngdc.noaa.gov/platforms/solar-space-observing-satellites/goes/goes16/l1b/seis-l1b-mpsh/2021/10/ops_seis-l1b-mpsh_g16_d20211015_v0-0-0.nc\n",
            "10\n",
            "downloading:  https://data.ngdc.noaa.gov/platforms/solar-space-observing-satellites/goes/goes16/l1b/seis-l1b-mpsh/2021/10/ops_seis-l1b-mpsh_g16_d20211016_v0-0-0.nc\n",
            "11\n",
            "downloading:  https://data.ngdc.noaa.gov/platforms/solar-space-observing-satellites/goes/goes16/l1b/seis-l1b-mpsh/2021/11/ops_seis-l1b-mpsh_g16_d20211101_v0-0-0.nc\n",
            "11\n",
            "downloading:  https://data.ngdc.noaa.gov/platforms/solar-space-observing-satellites/goes/goes16/l1b/seis-l1b-mpsh/2021/11/ops_seis-l1b-mpsh_g16_d20211102_v0-0-0.nc\n",
            "11\n",
            "downloading:  https://data.ngdc.noaa.gov/platforms/solar-space-observing-satellites/goes/goes16/l1b/seis-l1b-mpsh/2021/11/ops_seis-l1b-mpsh_g16_d20211103_v0-0-0.nc\n",
            "11\n",
            "downloading:  https://data.ngdc.noaa.gov/platforms/solar-space-observing-satellites/goes/goes16/l1b/seis-l1b-mpsh/2021/11/ops_seis-l1b-mpsh_g16_d20211104_v0-0-0.nc\n",
            "11\n",
            "downloading:  https://data.ngdc.noaa.gov/platforms/solar-space-observing-satellites/goes/goes16/l1b/seis-l1b-mpsh/2021/11/ops_seis-l1b-mpsh_g16_d20211105_v0-0-0.nc\n",
            "11\n",
            "downloading:  https://data.ngdc.noaa.gov/platforms/solar-space-observing-satellites/goes/goes16/l1b/seis-l1b-mpsh/2021/11/ops_seis-l1b-mpsh_g16_d20211106_v0-0-0.nc\n",
            "11\n",
            "downloading:  https://data.ngdc.noaa.gov/platforms/solar-space-observing-satellites/goes/goes16/l1b/seis-l1b-mpsh/2021/11/ops_seis-l1b-mpsh_g16_d20211107_v0-0-0.nc\n",
            "11\n",
            "downloading:  https://data.ngdc.noaa.gov/platforms/solar-space-observing-satellites/goes/goes16/l1b/seis-l1b-mpsh/2021/11/ops_seis-l1b-mpsh_g16_d20211108_v0-0-0.nc\n",
            "11\n",
            "downloading:  https://data.ngdc.noaa.gov/platforms/solar-space-observing-satellites/goes/goes16/l1b/seis-l1b-mpsh/2021/11/ops_seis-l1b-mpsh_g16_d20211109_v0-0-0.nc\n",
            "11\n",
            "downloading:  https://data.ngdc.noaa.gov/platforms/solar-space-observing-satellites/goes/goes16/l1b/seis-l1b-mpsh/2021/11/ops_seis-l1b-mpsh_g16_d20211110_v0-0-0.nc\n",
            "11\n",
            "downloading:  https://data.ngdc.noaa.gov/platforms/solar-space-observing-satellites/goes/goes16/l1b/seis-l1b-mpsh/2021/11/ops_seis-l1b-mpsh_g16_d20211111_v0-0-0.nc\n",
            "11\n",
            "downloading:  https://data.ngdc.noaa.gov/platforms/solar-space-observing-satellites/goes/goes16/l1b/seis-l1b-mpsh/2021/11/ops_seis-l1b-mpsh_g16_d20211112_v0-0-0.nc\n",
            "11\n",
            "downloading:  https://data.ngdc.noaa.gov/platforms/solar-space-observing-satellites/goes/goes16/l1b/seis-l1b-mpsh/2021/11/ops_seis-l1b-mpsh_g16_d20211113_v0-0-0.nc\n",
            "11\n",
            "downloading:  https://data.ngdc.noaa.gov/platforms/solar-space-observing-satellites/goes/goes16/l1b/seis-l1b-mpsh/2021/11/ops_seis-l1b-mpsh_g16_d20211114_v0-0-0.nc\n",
            "11\n",
            "downloading:  https://data.ngdc.noaa.gov/platforms/solar-space-observing-satellites/goes/goes16/l1b/seis-l1b-mpsh/2021/11/ops_seis-l1b-mpsh_g16_d20211115_v0-0-0.nc\n",
            "11\n",
            "downloading:  https://data.ngdc.noaa.gov/platforms/solar-space-observing-satellites/goes/goes16/l1b/seis-l1b-mpsh/2021/11/ops_seis-l1b-mpsh_g16_d20211116_v0-0-0.nc\n",
            "12\n",
            "downloading:  https://data.ngdc.noaa.gov/platforms/solar-space-observing-satellites/goes/goes16/l1b/seis-l1b-mpsh/2021/12/ops_seis-l1b-mpsh_g16_d20211201_v0-0-0.nc\n",
            "12\n",
            "downloading:  https://data.ngdc.noaa.gov/platforms/solar-space-observing-satellites/goes/goes16/l1b/seis-l1b-mpsh/2021/12/ops_seis-l1b-mpsh_g16_d20211202_v0-0-0.nc\n",
            "12\n",
            "downloading:  https://data.ngdc.noaa.gov/platforms/solar-space-observing-satellites/goes/goes16/l1b/seis-l1b-mpsh/2021/12/ops_seis-l1b-mpsh_g16_d20211203_v0-0-0.nc\n",
            "12\n",
            "downloading:  https://data.ngdc.noaa.gov/platforms/solar-space-observing-satellites/goes/goes16/l1b/seis-l1b-mpsh/2021/12/ops_seis-l1b-mpsh_g16_d20211204_v0-0-0.nc\n",
            "12\n",
            "downloading:  https://data.ngdc.noaa.gov/platforms/solar-space-observing-satellites/goes/goes16/l1b/seis-l1b-mpsh/2021/12/ops_seis-l1b-mpsh_g16_d20211205_v0-0-0.nc\n",
            "12\n",
            "downloading:  https://data.ngdc.noaa.gov/platforms/solar-space-observing-satellites/goes/goes16/l1b/seis-l1b-mpsh/2021/12/ops_seis-l1b-mpsh_g16_d20211206_v0-0-0.nc\n",
            "12\n",
            "downloading:  https://data.ngdc.noaa.gov/platforms/solar-space-observing-satellites/goes/goes16/l1b/seis-l1b-mpsh/2021/12/ops_seis-l1b-mpsh_g16_d20211207_v0-0-0.nc\n",
            "12\n",
            "downloading:  https://data.ngdc.noaa.gov/platforms/solar-space-observing-satellites/goes/goes16/l1b/seis-l1b-mpsh/2021/12/ops_seis-l1b-mpsh_g16_d20211208_v0-0-0.nc\n",
            "12\n",
            "downloading:  https://data.ngdc.noaa.gov/platforms/solar-space-observing-satellites/goes/goes16/l1b/seis-l1b-mpsh/2021/12/ops_seis-l1b-mpsh_g16_d20211209_v0-0-0.nc\n",
            "12\n",
            "downloading:  https://data.ngdc.noaa.gov/platforms/solar-space-observing-satellites/goes/goes16/l1b/seis-l1b-mpsh/2021/12/ops_seis-l1b-mpsh_g16_d20211210_v0-0-0.nc\n",
            "12\n",
            "downloading:  https://data.ngdc.noaa.gov/platforms/solar-space-observing-satellites/goes/goes16/l1b/seis-l1b-mpsh/2021/12/ops_seis-l1b-mpsh_g16_d20211211_v0-0-0.nc\n",
            "12\n",
            "downloading:  https://data.ngdc.noaa.gov/platforms/solar-space-observing-satellites/goes/goes16/l1b/seis-l1b-mpsh/2021/12/ops_seis-l1b-mpsh_g16_d20211212_v0-0-0.nc\n",
            "12\n",
            "downloading:  https://data.ngdc.noaa.gov/platforms/solar-space-observing-satellites/goes/goes16/l1b/seis-l1b-mpsh/2021/12/ops_seis-l1b-mpsh_g16_d20211213_v0-0-0.nc\n",
            "12\n",
            "downloading:  https://data.ngdc.noaa.gov/platforms/solar-space-observing-satellites/goes/goes16/l1b/seis-l1b-mpsh/2021/12/ops_seis-l1b-mpsh_g16_d20211214_v0-0-0.nc\n",
            "12\n",
            "downloading:  https://data.ngdc.noaa.gov/platforms/solar-space-observing-satellites/goes/goes16/l1b/seis-l1b-mpsh/2021/12/ops_seis-l1b-mpsh_g16_d20211215_v0-0-0.nc\n",
            "12\n",
            "downloading:  https://data.ngdc.noaa.gov/platforms/solar-space-observing-satellites/goes/goes16/l1b/seis-l1b-mpsh/2021/12/ops_seis-l1b-mpsh_g16_d20211216_v0-0-0.nc\n"
          ]
        }
      ]
    },
    {
      "cell_type": "code",
      "source": [],
      "metadata": {
        "id": "IckJ5M0xVEHY"
      },
      "execution_count": null,
      "outputs": []
    }
  ]
}